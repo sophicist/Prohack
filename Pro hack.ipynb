{
 "cells": [
  {
   "cell_type": "code",
   "execution_count": 4,
   "metadata": {
    "ExecuteTime": {
     "end_time": "2020-05-20T06:25:01.044020Z",
     "start_time": "2020-05-20T06:25:00.849134Z"
    }
   },
   "outputs": [
    {
     "data": {
      "text/html": [
       "<div>\n",
       "<style scoped>\n",
       "    .dataframe tbody tr th:only-of-type {\n",
       "        vertical-align: middle;\n",
       "    }\n",
       "\n",
       "    .dataframe tbody tr th {\n",
       "        vertical-align: top;\n",
       "    }\n",
       "\n",
       "    .dataframe thead th {\n",
       "        text-align: right;\n",
       "    }\n",
       "</style>\n",
       "<table border=\"1\" class=\"dataframe\">\n",
       "  <thead>\n",
       "    <tr style=\"text-align: right;\">\n",
       "      <th></th>\n",
       "      <th>galactic year</th>\n",
       "      <th>galaxy</th>\n",
       "      <th>existence expectancy index</th>\n",
       "      <th>existence expectancy at birth</th>\n",
       "      <th>Gross income per capita</th>\n",
       "      <th>Income Index</th>\n",
       "      <th>Expected years of education (galactic years)</th>\n",
       "      <th>Mean years of education (galactic years)</th>\n",
       "      <th>Intergalactic Development Index (IDI)</th>\n",
       "      <th>Education Index</th>\n",
       "      <th>...</th>\n",
       "      <th>Intergalactic Development Index (IDI), female</th>\n",
       "      <th>Intergalactic Development Index (IDI), male</th>\n",
       "      <th>Gender Development Index (GDI)</th>\n",
       "      <th>Intergalactic Development Index (IDI), female, Rank</th>\n",
       "      <th>Intergalactic Development Index (IDI), male, Rank</th>\n",
       "      <th>Adjusted net savings</th>\n",
       "      <th>Creature Immunodeficiency Disease prevalence, adult (% ages 15-49), total</th>\n",
       "      <th>Private galaxy capital flows (% of GGP)</th>\n",
       "      <th>Gender Inequality Index (GII)</th>\n",
       "      <th>y</th>\n",
       "    </tr>\n",
       "  </thead>\n",
       "  <tbody>\n",
       "    <tr>\n",
       "      <th>0</th>\n",
       "      <td>990025</td>\n",
       "      <td>Large Magellanic Cloud (LMC)</td>\n",
       "      <td>0.628657</td>\n",
       "      <td>63.125200</td>\n",
       "      <td>27109.234310</td>\n",
       "      <td>0.646039</td>\n",
       "      <td>8.240543</td>\n",
       "      <td>NaN</td>\n",
       "      <td>NaN</td>\n",
       "      <td>NaN</td>\n",
       "      <td>...</td>\n",
       "      <td>NaN</td>\n",
       "      <td>NaN</td>\n",
       "      <td>NaN</td>\n",
       "      <td>NaN</td>\n",
       "      <td>NaN</td>\n",
       "      <td>NaN</td>\n",
       "      <td>NaN</td>\n",
       "      <td>NaN</td>\n",
       "      <td>NaN</td>\n",
       "      <td>0.052590</td>\n",
       "    </tr>\n",
       "    <tr>\n",
       "      <th>1</th>\n",
       "      <td>990025</td>\n",
       "      <td>Camelopardalis B</td>\n",
       "      <td>0.818082</td>\n",
       "      <td>81.004994</td>\n",
       "      <td>30166.793958</td>\n",
       "      <td>0.852246</td>\n",
       "      <td>10.671823</td>\n",
       "      <td>4.742470</td>\n",
       "      <td>0.833624</td>\n",
       "      <td>0.467873</td>\n",
       "      <td>...</td>\n",
       "      <td>NaN</td>\n",
       "      <td>NaN</td>\n",
       "      <td>NaN</td>\n",
       "      <td>NaN</td>\n",
       "      <td>NaN</td>\n",
       "      <td>19.177926</td>\n",
       "      <td>NaN</td>\n",
       "      <td>22.785018</td>\n",
       "      <td>NaN</td>\n",
       "      <td>0.059868</td>\n",
       "    </tr>\n",
       "    <tr>\n",
       "      <th>2</th>\n",
       "      <td>990025</td>\n",
       "      <td>Virgo I</td>\n",
       "      <td>0.659443</td>\n",
       "      <td>59.570534</td>\n",
       "      <td>8441.707353</td>\n",
       "      <td>0.499762</td>\n",
       "      <td>8.840316</td>\n",
       "      <td>5.583973</td>\n",
       "      <td>0.469110</td>\n",
       "      <td>0.363837</td>\n",
       "      <td>...</td>\n",
       "      <td>NaN</td>\n",
       "      <td>NaN</td>\n",
       "      <td>NaN</td>\n",
       "      <td>NaN</td>\n",
       "      <td>NaN</td>\n",
       "      <td>21.151265</td>\n",
       "      <td>6.534020</td>\n",
       "      <td>NaN</td>\n",
       "      <td>NaN</td>\n",
       "      <td>0.050449</td>\n",
       "    </tr>\n",
       "    <tr>\n",
       "      <th>3</th>\n",
       "      <td>990025</td>\n",
       "      <td>UGC 8651 (DDO 181)</td>\n",
       "      <td>0.555862</td>\n",
       "      <td>52.333293</td>\n",
       "      <td>NaN</td>\n",
       "      <td>NaN</td>\n",
       "      <td>NaN</td>\n",
       "      <td>NaN</td>\n",
       "      <td>NaN</td>\n",
       "      <td>NaN</td>\n",
       "      <td>...</td>\n",
       "      <td>NaN</td>\n",
       "      <td>NaN</td>\n",
       "      <td>NaN</td>\n",
       "      <td>NaN</td>\n",
       "      <td>NaN</td>\n",
       "      <td>NaN</td>\n",
       "      <td>5.912194</td>\n",
       "      <td>NaN</td>\n",
       "      <td>NaN</td>\n",
       "      <td>0.049394</td>\n",
       "    </tr>\n",
       "    <tr>\n",
       "      <th>4</th>\n",
       "      <td>990025</td>\n",
       "      <td>Tucana Dwarf</td>\n",
       "      <td>0.991196</td>\n",
       "      <td>81.802464</td>\n",
       "      <td>81033.956906</td>\n",
       "      <td>1.131163</td>\n",
       "      <td>13.800672</td>\n",
       "      <td>13.188907</td>\n",
       "      <td>0.910341</td>\n",
       "      <td>0.918353</td>\n",
       "      <td>...</td>\n",
       "      <td>NaN</td>\n",
       "      <td>NaN</td>\n",
       "      <td>NaN</td>\n",
       "      <td>NaN</td>\n",
       "      <td>NaN</td>\n",
       "      <td>NaN</td>\n",
       "      <td>5.611753</td>\n",
       "      <td>NaN</td>\n",
       "      <td>NaN</td>\n",
       "      <td>0.154247</td>\n",
       "    </tr>\n",
       "  </tbody>\n",
       "</table>\n",
       "<p>5 rows × 80 columns</p>\n",
       "</div>"
      ],
      "text/plain": [
       "   galactic year                        galaxy  existence expectancy index  \\\n",
       "0         990025  Large Magellanic Cloud (LMC)                    0.628657   \n",
       "1         990025              Camelopardalis B                    0.818082   \n",
       "2         990025                       Virgo I                    0.659443   \n",
       "3         990025            UGC 8651 (DDO 181)                    0.555862   \n",
       "4         990025                  Tucana Dwarf                    0.991196   \n",
       "\n",
       "   existence expectancy at birth  Gross income per capita  Income Index  \\\n",
       "0                      63.125200             27109.234310      0.646039   \n",
       "1                      81.004994             30166.793958      0.852246   \n",
       "2                      59.570534              8441.707353      0.499762   \n",
       "3                      52.333293                      NaN           NaN   \n",
       "4                      81.802464             81033.956906      1.131163   \n",
       "\n",
       "   Expected years of education (galactic years)  \\\n",
       "0                                      8.240543   \n",
       "1                                     10.671823   \n",
       "2                                      8.840316   \n",
       "3                                           NaN   \n",
       "4                                     13.800672   \n",
       "\n",
       "   Mean years of education (galactic years)  \\\n",
       "0                                       NaN   \n",
       "1                                  4.742470   \n",
       "2                                  5.583973   \n",
       "3                                       NaN   \n",
       "4                                 13.188907   \n",
       "\n",
       "   Intergalactic Development Index (IDI)  Education Index  ...  \\\n",
       "0                                    NaN              NaN  ...   \n",
       "1                               0.833624         0.467873  ...   \n",
       "2                               0.469110         0.363837  ...   \n",
       "3                                    NaN              NaN  ...   \n",
       "4                               0.910341         0.918353  ...   \n",
       "\n",
       "   Intergalactic Development Index (IDI), female  \\\n",
       "0                                            NaN   \n",
       "1                                            NaN   \n",
       "2                                            NaN   \n",
       "3                                            NaN   \n",
       "4                                            NaN   \n",
       "\n",
       "   Intergalactic Development Index (IDI), male  \\\n",
       "0                                          NaN   \n",
       "1                                          NaN   \n",
       "2                                          NaN   \n",
       "3                                          NaN   \n",
       "4                                          NaN   \n",
       "\n",
       "   Gender Development Index (GDI)  \\\n",
       "0                             NaN   \n",
       "1                             NaN   \n",
       "2                             NaN   \n",
       "3                             NaN   \n",
       "4                             NaN   \n",
       "\n",
       "   Intergalactic Development Index (IDI), female, Rank  \\\n",
       "0                                                NaN     \n",
       "1                                                NaN     \n",
       "2                                                NaN     \n",
       "3                                                NaN     \n",
       "4                                                NaN     \n",
       "\n",
       "   Intergalactic Development Index (IDI), male, Rank  Adjusted net savings   \\\n",
       "0                                                NaN                    NaN   \n",
       "1                                                NaN              19.177926   \n",
       "2                                                NaN              21.151265   \n",
       "3                                                NaN                    NaN   \n",
       "4                                                NaN                    NaN   \n",
       "\n",
       "   Creature Immunodeficiency Disease prevalence, adult (% ages 15-49), total  \\\n",
       "0                                                NaN                           \n",
       "1                                                NaN                           \n",
       "2                                           6.534020                           \n",
       "3                                           5.912194                           \n",
       "4                                           5.611753                           \n",
       "\n",
       "   Private galaxy capital flows (% of GGP)  Gender Inequality Index (GII)  \\\n",
       "0                                      NaN                            NaN   \n",
       "1                                22.785018                            NaN   \n",
       "2                                      NaN                            NaN   \n",
       "3                                      NaN                            NaN   \n",
       "4                                      NaN                            NaN   \n",
       "\n",
       "          y  \n",
       "0  0.052590  \n",
       "1  0.059868  \n",
       "2  0.050449  \n",
       "3  0.049394  \n",
       "4  0.154247  \n",
       "\n",
       "[5 rows x 80 columns]"
      ]
     },
     "execution_count": 4,
     "metadata": {},
     "output_type": "execute_result"
    }
   ],
   "source": [
    "import pandas as pd\n",
    "import os\n",
    "\n",
    "os.listdir()\n",
    "train = pd.read_csv('train.csv')\n",
    "train.head()"
   ]
  },
  {
   "cell_type": "code",
   "execution_count": 14,
   "metadata": {
    "ExecuteTime": {
     "end_time": "2020-05-20T06:37:58.520573Z",
     "start_time": "2020-05-20T06:37:58.513580Z"
    }
   },
   "outputs": [
    {
     "data": {
      "text/plain": [
       "(3865, 80)"
      ]
     },
     "execution_count": 14,
     "metadata": {},
     "output_type": "execute_result"
    }
   ],
   "source": [
    "train.shape"
   ]
  },
  {
   "cell_type": "code",
   "execution_count": 23,
   "metadata": {
    "ExecuteTime": {
     "end_time": "2020-05-20T07:06:37.700786Z",
     "start_time": "2020-05-20T07:06:37.675802Z"
    }
   },
   "outputs": [],
   "source": [
    "from sklearn.model_selection import train_test_split\n",
    "df = train.select_dtypes(include=[\"float\"])\n",
    "df =df.dropna()\n",
    "x = df.drop(\"y\",1)\n",
    "y =df.y\n",
    "x_train,x_test,y_train,y_test =train_test_split(x,y,test_size =0.2,random_state =1)"
   ]
  },
  {
   "cell_type": "code",
   "execution_count": 24,
   "metadata": {
    "ExecuteTime": {
     "end_time": "2020-05-20T07:06:42.296155Z",
     "start_time": "2020-05-20T07:06:42.288159Z"
    }
   },
   "outputs": [
    {
     "data": {
      "text/plain": [
       "(334, 78)"
      ]
     },
     "execution_count": 24,
     "metadata": {},
     "output_type": "execute_result"
    }
   ],
   "source": [
    "df.shape"
   ]
  },
  {
   "cell_type": "code",
   "execution_count": 31,
   "metadata": {
    "ExecuteTime": {
     "end_time": "2020-05-20T07:10:20.336268Z",
     "start_time": "2020-05-20T07:10:20.321276Z"
    }
   },
   "outputs": [
    {
     "data": {
      "text/plain": [
       "LinearRegression(copy_X=True, fit_intercept=True, n_jobs=None, normalize=False)"
      ]
     },
     "execution_count": 31,
     "metadata": {},
     "output_type": "execute_result"
    }
   ],
   "source": [
    "# Modeling\n",
    "from sklearn.linear_model import LinearRegression\n",
    "model =LinearRegression()\n",
    "model.fit(x_train,y_train)\n"
   ]
  },
  {
   "cell_type": "code",
   "execution_count": 36,
   "metadata": {
    "ExecuteTime": {
     "end_time": "2020-05-20T07:14:17.629311Z",
     "start_time": "2020-05-20T07:14:17.575343Z"
    }
   },
   "outputs": [],
   "source": [
    "# Test data\n",
    "test = pd.read_csv('test.csv')\n",
    "test =test[x_train.columns]"
   ]
  },
  {
   "cell_type": "code",
   "execution_count": 38,
   "metadata": {
    "ExecuteTime": {
     "end_time": "2020-05-20T07:15:05.198057Z",
     "start_time": "2020-05-20T07:15:05.185066Z"
    }
   },
   "outputs": [],
   "source": [
    "test =test.fillna(0)\n",
    "pred = model.predict(test)\n",
    "\n",
    "\n",
    "    "
   ]
  },
  {
   "cell_type": "code",
   "execution_count": 61,
   "metadata": {
    "ExecuteTime": {
     "end_time": "2020-05-20T07:50:11.875628Z",
     "start_time": "2020-05-20T07:50:11.854642Z"
    }
   },
   "outputs": [
    {
     "data": {
      "text/html": [
       "<div>\n",
       "<style scoped>\n",
       "    .dataframe tbody tr th:only-of-type {\n",
       "        vertical-align: middle;\n",
       "    }\n",
       "\n",
       "    .dataframe tbody tr th {\n",
       "        vertical-align: top;\n",
       "    }\n",
       "\n",
       "    .dataframe thead th {\n",
       "        text-align: right;\n",
       "    }\n",
       "</style>\n",
       "<table border=\"1\" class=\"dataframe\">\n",
       "  <thead>\n",
       "    <tr style=\"text-align: right;\">\n",
       "      <th></th>\n",
       "      <th>Index</th>\n",
       "      <th>pred</th>\n",
       "      <th>opt_pred</th>\n",
       "    </tr>\n",
       "  </thead>\n",
       "  <tbody>\n",
       "    <tr>\n",
       "      <th>0</th>\n",
       "      <td>0</td>\n",
       "      <td>0.089830</td>\n",
       "      <td>56.116723</td>\n",
       "    </tr>\n",
       "    <tr>\n",
       "      <th>1</th>\n",
       "      <td>1</td>\n",
       "      <td>0.103526</td>\n",
       "      <td>56.116723</td>\n",
       "    </tr>\n",
       "    <tr>\n",
       "      <th>2</th>\n",
       "      <td>2</td>\n",
       "      <td>0.102605</td>\n",
       "      <td>56.116723</td>\n",
       "    </tr>\n",
       "    <tr>\n",
       "      <th>3</th>\n",
       "      <td>3</td>\n",
       "      <td>0.077994</td>\n",
       "      <td>56.116723</td>\n",
       "    </tr>\n",
       "    <tr>\n",
       "      <th>4</th>\n",
       "      <td>4</td>\n",
       "      <td>0.117215</td>\n",
       "      <td>56.116723</td>\n",
       "    </tr>\n",
       "  </tbody>\n",
       "</table>\n",
       "</div>"
      ],
      "text/plain": [
       "   Index      pred   opt_pred\n",
       "0      0  0.089830  56.116723\n",
       "1      1  0.103526  56.116723\n",
       "2      2  0.102605  56.116723\n",
       "3      3  0.077994  56.116723\n",
       "4      4  0.117215  56.116723"
      ]
     },
     "execution_count": 61,
     "metadata": {},
     "output_type": "execute_result"
    }
   ],
   "source": [
    "ss = pd.DataFrame({\n",
    "    'Index':test.index,\n",
    "    'pred':pred,\n",
    "    'opt_pred':0\n",
    "})\n",
    "ss.head()"
   ]
  },
  {
   "cell_type": "code",
   "execution_count": 215,
   "metadata": {
    "ExecuteTime": {
     "end_time": "2020-05-20T08:45:14.878879Z",
     "start_time": "2020-05-20T08:45:14.861889Z"
    }
   },
   "outputs": [
    {
     "data": {
      "text/plain": [
       "5601.899999999996"
      ]
     },
     "execution_count": 215,
     "metadata": {},
     "output_type": "execute_result"
    }
   ],
   "source": [
    "H = []\n",
    "for i in test['existence expectancy index']: \n",
    "    if i <0.7:\n",
    "        H.append(round(5600/71,1))\n",
    "        \n",
    "    else:\n",
    "        H.append(round(44000/813,1))\n",
    "        \n",
    "ss[\"opt_pred\"] =H\n",
    "ss.head()\n",
    "sum(ss[test['existence expectancy index']<0.7].opt_pred)"
   ]
  },
  {
   "cell_type": "code",
   "execution_count": 216,
   "metadata": {
    "ExecuteTime": {
     "end_time": "2020-05-20T08:45:15.375595Z",
     "start_time": "2020-05-20T08:45:15.366600Z"
    }
   },
   "outputs": [
    {
     "data": {
      "text/plain": [
       "49909.79999999919"
      ]
     },
     "execution_count": 216,
     "metadata": {},
     "output_type": "execute_result"
    }
   ],
   "source": [
    "test[test['existence expectancy index']<0.7].shape\n",
    "sum(H)"
   ]
  },
  {
   "cell_type": "code",
   "execution_count": 210,
   "metadata": {
    "ExecuteTime": {
     "end_time": "2020-05-20T08:43:49.816930Z",
     "start_time": "2020-05-20T08:43:49.219273Z"
    }
   },
   "outputs": [
    {
     "data": {
      "image/png": "[encoded data removed]",
      "text/plain": [
       "<Figure size 432x288 with 1 Axes>"
      ]
     },
     "metadata": {},
     "output_type": "display_data"
    }
   ],
   "source": [
    "plt.hist(H)\n",
    "plt.show()\n"
   ]
  },
  {
   "cell_type": "code",
   "execution_count": 217,
   "metadata": {
    "ExecuteTime": {
     "end_time": "2020-05-20T08:45:21.428126Z",
     "start_time": "2020-05-20T08:45:21.410137Z"
    }
   },
   "outputs": [],
   "source": [
    "ss.to_csv(\"files\\\\regression_model.csv\",index =False)"
   ]
  },
  {
   "cell_type": "code",
   "execution_count": null,
   "metadata": {},
   "outputs": [],
   "source": []
  }
 ],
 "metadata": {
  "kernelspec": {
   "display_name": "Python 3",
   "language": "python",
   "name": "python3"
  },
  "language_info": {
   "codemirror_mode": {
    "name": "ipython",
    "version": 3
   },
   "file_extension": ".py",
   "mimetype": "text/x-python",
   "name": "python",
   "nbconvert_exporter": "python",
   "pygments_lexer": "ipython3",
   "version": "3.7.0"
  },
  "latex_envs": {
   "LaTeX_envs_menu_present": true,
   "autoclose": false,
   "autocomplete": true,
   "bibliofile": "biblio.bib",
   "cite_by": "apalike",
   "current_citInitial": 1,
   "eqLabelWithNumbers": true,
   "eqNumInitial": 1,
   "hotkeys": {
    "equation": "Ctrl-E",
    "itemize": "Ctrl-I"
   },
   "labels_anchors": false,
   "latex_user_defs": false,
   "report_style_numbering": false,
   "user_envs_cfg": false
  },
  "toc": {
   "base_numbering": 1,
   "nav_menu": {},
   "number_sections": true,
   "sideBar": true,
   "skip_h1_title": false,
   "title_cell": "Table of Contents",
   "title_sidebar": "Contents",
   "toc_cell": false,
   "toc_position": {},
   "toc_section_display": true,
   "toc_window_display": false
  }
 },
 "nbformat": 4,
 "nbformat_minor": 2
}
